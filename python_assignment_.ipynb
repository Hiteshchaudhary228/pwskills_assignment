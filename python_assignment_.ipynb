{
  "nbformat": 4,
  "nbformat_minor": 0,
  "metadata": {
    "colab": {
      "provenance": []
    },
    "kernelspec": {
      "name": "python3",
      "display_name": "Python 3"
    },
    "language_info": {
      "name": "python"
    }
  },
  "cells": [
    {
      "cell_type": "code",
      "execution_count": 2,
      "metadata": {
        "colab": {
          "base_uri": "https://localhost:8080/"
        },
        "id": "j72Nv7wdVbvA",
        "outputId": "7a1b7f64-94b4-478d-fa1e-bff6357d7671"
      },
      "outputs": [
        {
          "output_type": "stream",
          "name": "stdout",
          "text": [
            "int64\n"
          ]
        }
      ],
      "source": [
        "# Create a NumPy array ‘arr’ of integers from 0 to 5 and print its data type.\n",
        "import numpy as np\n",
        "arr = np.array([0, 1, 2, 3, 4, 5])\n",
        "print(arr.dtype)"
      ]
    },
    {
      "cell_type": "code",
      "source": [
        "#Given a NumPy array 'arr', check if its data type is float64.\n",
        "import numpy as np\n",
        "arr = np.array([0, 1, 2, 3, 4, 5])\n",
        "print(arr.dtype)"
      ],
      "metadata": {
        "colab": {
          "base_uri": "https://localhost:8080/"
        },
        "id": "QGALO1RgVlqd",
        "outputId": "5b4a6679-f995-4a89-d9a5-a9f8ddc14e3d"
      },
      "execution_count": 3,
      "outputs": [
        {
          "output_type": "stream",
          "name": "stdout",
          "text": [
            "int64\n"
          ]
        }
      ]
    },
    {
      "cell_type": "code",
      "source": [
        "#Create a NumPy array 'arr' with a data type of complex128 containing three complex numbers.\n",
        "import numpy as np\n",
        "arr = np.array([1+3j,2+3j,4+5j])\n",
        "print(arr.dtype)"
      ],
      "metadata": {
        "colab": {
          "base_uri": "https://localhost:8080/"
        },
        "id": "gNFrHvKpV4yc",
        "outputId": "3f03dfdd-3321-4539-d8ec-4f5ac31fab69"
      },
      "execution_count": 5,
      "outputs": [
        {
          "output_type": "stream",
          "name": "stdout",
          "text": [
            "complex128\n"
          ]
        }
      ]
    },
    {
      "cell_type": "code",
      "source": [
        "# Convert an existing NumPy array 'arr' of integers to float32 data type.\n",
        "import numpy as np\n",
        "arr = np.array([1,2,3,4])\n",
        "arr_float=arr.astype(np.float32)\n",
        "print(arr_float.dtype)"
      ],
      "metadata": {
        "colab": {
          "base_uri": "https://localhost:8080/"
        },
        "id": "_z5klFMQV-Km",
        "outputId": "2a92757e-74ee-4d8b-d444-816b974e7c14"
      },
      "execution_count": 6,
      "outputs": [
        {
          "output_type": "stream",
          "name": "stdout",
          "text": [
            "float32\n"
          ]
        }
      ]
    },
    {
      "cell_type": "code",
      "source": [
        "#Given a NumPy array 'arr' with float64 data type, convert it to float32 to␣\n",
        "# reduce decimal precision.\n",
        "import numpy as np\n",
        "arr = np.array([1.122323456777,2.122345645643,4.122454545423])\n",
        "arr_float=arr.astype(np.float32)\n",
        "print(arr_float)\n",
        "print(arr.dtype)\n",
        "print(arr_float.dtype)"
      ],
      "metadata": {
        "colab": {
          "base_uri": "https://localhost:8080/"
        },
        "id": "tHkBlYd2WJTO",
        "outputId": "11272678-b6c7-41e2-a23c-0b0b08c141ab"
      },
      "execution_count": 7,
      "outputs": [
        {
          "output_type": "stream",
          "name": "stdout",
          "text": [
            "[1.1223235 2.1223457 4.1224546]\n",
            "float64\n",
            "float32\n"
          ]
        }
      ]
    },
    {
      "cell_type": "code",
      "source": [
        "#Write a function array_attributes that takes a NumPy array as input and␣\n",
        "# returns its shape, size, and data type.\n",
        "import numpy as np\n",
        "def array_attributes(arr):\n",
        "  shape = arr.shape\n",
        "  size = arr.size\n",
        "  dtype = arr.dtype\n",
        "  return shape, size, dtype\n",
        "arr = np.array([[1, 2, 3], [4, 5, 6]])\n",
        "shape, size, dtype = array_attributes(arr)\n",
        "print(\"Shape:\", shape)\n",
        "print(\"Size:\", size)\n",
        "print(\"Data Type:\", dtype)"
      ],
      "metadata": {
        "colab": {
          "base_uri": "https://localhost:8080/"
        },
        "id": "6AfkVNt4WXUD",
        "outputId": "dc1d8109-ea44-41e1-b994-1b041b6ae310"
      },
      "execution_count": 9,
      "outputs": [
        {
          "output_type": "stream",
          "name": "stdout",
          "text": [
            "Shape: (2, 3)\n",
            "Size: 6\n",
            "Data Type: int64\n"
          ]
        }
      ]
    },
    {
      "cell_type": "code",
      "source": [
        "#Create a function array_dimension that takes a NumPy array as input and␣\n",
        "# returns its dimensionality.\n",
        "6\n",
        "import numpy as np\n",
        "def array_dimension(arr):\n",
        "  dimension = arr.ndim\n",
        "  return dimension\n",
        "arr = np.array([[1, 2, 3], [4, 5, 6],[7,8,9]])\n",
        "dimension = array_dimension(arr)\n",
        "print(\"dimension\", dimension)"
      ],
      "metadata": {
        "colab": {
          "base_uri": "https://localhost:8080/"
        },
        "id": "a0tgTiTVWfV4",
        "outputId": "7762dd1c-1a87-40f4-eccd-eb1a682a3937"
      },
      "execution_count": 10,
      "outputs": [
        {
          "output_type": "stream",
          "name": "stdout",
          "text": [
            "dimension 2\n"
          ]
        }
      ]
    },
    {
      "cell_type": "code",
      "source": [
        "#Design a function item_size_info that takes a NumPy array as input and returns␣\n",
        "#the item size and the total size in bytes.\n",
        "import numpy as np\n",
        "def item_size_info(arr):\n",
        "\n",
        "  item_size = arr.itemsize # Size of each element in bytes\n",
        "  total_size = arr.nbytes # Total size of the array in bytes\n",
        "  return item_size, total_size\n",
        "# Example usage\n",
        "arr = np.array([[1, 2, 3], [4, 5, 6]], dtype=np.int32)\n",
        "item_size, total_size = item_size_info(arr)\n",
        "print(\"Item size (bytes):\", item_size)\n",
        "print(\"Total size (bytes):\", total_size)"
      ],
      "metadata": {
        "colab": {
          "base_uri": "https://localhost:8080/"
        },
        "id": "RKO0DfzNWxK6",
        "outputId": "a011e768-b278-4e53-a863-e9f086449718"
      },
      "execution_count": 11,
      "outputs": [
        {
          "output_type": "stream",
          "name": "stdout",
          "text": [
            "Item size (bytes): 4\n",
            "Total size (bytes): 24\n"
          ]
        }
      ]
    },
    {
      "cell_type": "code",
      "source": [
        "#Design a function shape_stride_relationship that takes a NumPy array as input␣\n",
        "# and returns the shape and strides of the array.\n",
        "import numpy as np\n",
        "def shape_stride_relationship(arr):\n",
        "  return arr.shape, arr.strides\n",
        "\n",
        "# Example usage\n",
        "arr = np.array([[1, 2, 3], [4, 5, 6]])\n",
        "shape, strides = shape_stride_relationship(arr)\n",
        "print(\"Shape:\", shape)\n",
        "print(\"Strides:\", strides)"
      ],
      "metadata": {
        "colab": {
          "base_uri": "https://localhost:8080/"
        },
        "id": "y4zneC6kXCMC",
        "outputId": "ea08fc2d-1c27-40f2-9d0d-6fa4b1e1d8fd"
      },
      "execution_count": 13,
      "outputs": [
        {
          "output_type": "stream",
          "name": "stdout",
          "text": [
            "Shape: (2, 3)\n",
            "Strides: (24, 8)\n"
          ]
        }
      ]
    },
    {
      "cell_type": "code",
      "source": [
        "#Create a function create_zeros_array that takes an integer n as input and␣\n",
        "# returns a NumPy array of zeros with n elements.\n",
        "def create_zeros_array(n):\n",
        "  return np.zeros(n)\n",
        "# Example usage\n",
        "zeros_array = create_zeros_array(5)\n",
        "print(zeros_array)"
      ],
      "metadata": {
        "colab": {
          "base_uri": "https://localhost:8080/"
        },
        "id": "Es907s3OXL-Q",
        "outputId": "97480d0d-7cb6-4004-a1db-217ef088c21f"
      },
      "execution_count": 14,
      "outputs": [
        {
          "output_type": "stream",
          "name": "stdout",
          "text": [
            "[0. 0. 0. 0. 0.]\n"
          ]
        }
      ]
    },
    {
      "cell_type": "code",
      "source": [
        "#Write a function create_ones_matrix that takes integers rows and cols as␣\n",
        "# inputs and generates a 2D NumPy array filled with ones of size rows x cols.\n",
        "def create_ones_matrix(rows, cols):\n",
        "  return np.ones((rows, cols))\n",
        "# Example usage\n",
        "ones_matrix = create_ones_matrix(3, 4)\n",
        "print(ones_matrix)"
      ],
      "metadata": {
        "colab": {
          "base_uri": "https://localhost:8080/"
        },
        "id": "921Tb57dXYDq",
        "outputId": "5905cd93-9d32-49eb-a51d-60b0f8fd61b2"
      },
      "execution_count": 15,
      "outputs": [
        {
          "output_type": "stream",
          "name": "stdout",
          "text": [
            "[[1. 1. 1. 1.]\n",
            " [1. 1. 1. 1.]\n",
            " [1. 1. 1. 1.]]\n"
          ]
        }
      ]
    },
    {
      "cell_type": "code",
      "source": [
        "#Write a function generate_range_array that takes three integers start, stop,␣\n",
        "# and step as arguments and creates a NumPy array with a range starting from␣\n",
        "#start, ending at stop (exclusive), and with the specified step.\n",
        "def generate_range_array(start, stop, step):\n",
        "  return np.arange(start, stop, step)\n",
        "# Example usage\n",
        "range_array = generate_range_array(0, 10, 2)\n",
        "print(range_array)"
      ],
      "metadata": {
        "colab": {
          "base_uri": "https://localhost:8080/"
        },
        "id": "Gvxpu8BSXnzl",
        "outputId": "a4e29550-4661-48ae-b097-08a8ae1b4bbe"
      },
      "execution_count": 17,
      "outputs": [
        {
          "output_type": "stream",
          "name": "stdout",
          "text": [
            "[0 2 4 6 8]\n"
          ]
        }
      ]
    },
    {
      "cell_type": "code",
      "source": [
        "#Design a function generate_linear_space that takes two floats start, stop, and␣\n",
        "# an integer num as arguments and generates a NumPy array with num equally␣\n",
        "# spaced values between start and stop (inclusive).\n",
        "def generate_linear_space(start, stop, num):\n",
        "  return np.linspace(start, stop, num)\n",
        "# Example usage\n",
        "linear_space = generate_linear_space(0, 10, 5)\n",
        "print(linear_space)"
      ],
      "metadata": {
        "colab": {
          "base_uri": "https://localhost:8080/"
        },
        "id": "2qyDaVZDX1Ow",
        "outputId": "3b95f8f9-0fd3-437d-98db-f461cd04e23b"
      },
      "execution_count": 18,
      "outputs": [
        {
          "output_type": "stream",
          "name": "stdout",
          "text": [
            "[ 0.   2.5  5.   7.5 10. ]\n"
          ]
        }
      ]
    },
    {
      "cell_type": "code",
      "source": [
        "#Create a function create_identity_matrix that takes an integer n as input and␣\n",
        "# generates a square identity matrix of size n x n using numpy.eye.\n",
        "def create_identity_matrix(n):\n",
        "  return np.eye(n)\n",
        "# Example usage\n",
        "identity_matrix = create_identity_matrix(4)\n",
        "print(identity_matrix)"
      ],
      "metadata": {
        "colab": {
          "base_uri": "https://localhost:8080/"
        },
        "id": "3MWENoE3YFX8",
        "outputId": "2d794de6-5b5d-495f-c694-0c5621ed9bb2"
      },
      "execution_count": 19,
      "outputs": [
        {
          "output_type": "stream",
          "name": "stdout",
          "text": [
            "[[1. 0. 0. 0.]\n",
            " [0. 1. 0. 0.]\n",
            " [0. 0. 1. 0.]\n",
            " [0. 0. 0. 1.]]\n"
          ]
        }
      ]
    },
    {
      "cell_type": "code",
      "source": [
        "#Write a function that takes a Python list and converts it into a NumPy array.\n",
        "def list_to_numpy_array(py_list):\n",
        "  return np.array(py_list)\n",
        "# Example usage\n",
        "py_list = [1, 2, 3, 4]\n",
        "numpy_array = list_to_numpy_array(py_list)\n",
        "print(numpy_array)"
      ],
      "metadata": {
        "colab": {
          "base_uri": "https://localhost:8080/"
        },
        "id": "1hFCkh3RYYNL",
        "outputId": "85e7f206-2ff8-43bc-d94d-3034c1995873"
      },
      "execution_count": 20,
      "outputs": [
        {
          "output_type": "stream",
          "name": "stdout",
          "text": [
            "[1 2 3 4]\n"
          ]
        }
      ]
    },
    {
      "cell_type": "code",
      "source": [
        "#Create a NumPy array and demonstrate the use of numpy.view to create a new␣\n",
        "# array object with the same data.\n",
        "def array_view(arr):\n",
        "  return arr.view()\n",
        "\n",
        "# Example usage\n",
        "arr = np.array([1.5, 2.6, 3.7])\n",
        "view_arr = array_view(arr)\n",
        "print(view_arr)"
      ],
      "metadata": {
        "colab": {
          "base_uri": "https://localhost:8080/"
        },
        "id": "w4ckmWAhYib8",
        "outputId": "0e847386-5c8d-4523-ece8-429f11321ad1"
      },
      "execution_count": 21,
      "outputs": [
        {
          "output_type": "stream",
          "name": "stdout",
          "text": [
            "[1.5 2.6 3.7]\n"
          ]
        }
      ]
    },
    {
      "cell_type": "code",
      "source": [
        "#Create a function array_strides that takes a NumPy array as input and returns␣\n",
        "# the strides of the array. arr = np.array([1.5, 2.6, 3.7])\n",
        "def array_strides(arr):\n",
        "  return arr.strides\n",
        "# Example usage\n",
        "arr = np.array([1.5, 2.6, 3.7])\n",
        "strides = array_strides(arr)\n",
        "print(\"Strides:\", strides)"
      ],
      "metadata": {
        "colab": {
          "base_uri": "https://localhost:8080/"
        },
        "id": "yEHBb-69ZAJG",
        "outputId": "f891f1d1-ed1a-488e-85f8-dbc749a47c3a"
      },
      "execution_count": 22,
      "outputs": [
        {
          "output_type": "stream",
          "name": "stdout",
          "text": [
            "Strides: (8,)\n"
          ]
        }
      ]
    },
    {
      "cell_type": "code",
      "source": [
        "#Write a function that takes two NumPy arrays and concatenates them along a␣\n",
        "# specified axis.\n",
        "def concatenate_arrays(arr1, arr2, axis=0):\n",
        "  return np.concatenate((arr1, arr2), axis=axis)\n",
        "# Example usage\n",
        "arr1 = np.array([1, 2, 3])\n",
        "arr2 = np.array([4, 5, 6])\n",
        "concatenated_array = concatenate_arrays(arr1, arr2)\n",
        "print(concatenated_array)"
      ],
      "metadata": {
        "colab": {
          "base_uri": "https://localhost:8080/"
        },
        "id": "vdMrL5SDZOQg",
        "outputId": "8c4321e9-fc4c-4957-ae03-9492b665c44f"
      },
      "execution_count": 23,
      "outputs": [
        {
          "output_type": "stream",
          "name": "stdout",
          "text": [
            "[1 2 3 4 5 6]\n"
          ]
        }
      ]
    },
    {
      "cell_type": "code",
      "source": [
        "#Create two NumPy arrays with different shapes and concatenate them␣\n",
        "# horizontally using `numpy.\n",
        "arr1 = np.array([[1, 2], [3, 4]])\n",
        "arr2 = np.array([[5, 6], [7, 8]])\n",
        "concatenated_array = np.hstack((arr1, arr2))\n",
        "print(concatenated_array)"
      ],
      "metadata": {
        "colab": {
          "base_uri": "https://localhost:8080/"
        },
        "id": "sckyLb2CZXMn",
        "outputId": "1cd0e86f-ed73-4962-99b7-d72a831e6ee0"
      },
      "execution_count": 24,
      "outputs": [
        {
          "output_type": "stream",
          "name": "stdout",
          "text": [
            "[[1 2 5 6]\n",
            " [3 4 7 8]]\n"
          ]
        }
      ]
    },
    {
      "cell_type": "code",
      "source": [
        "#Write a function that vertically stacks multiple NumPy arrays given as a list.\n",
        "import numpy as np\n",
        "\n",
        "def vertical_stack(arr_list):\n",
        "  return np.vstack(arr_list)\n",
        "# Example usage\n",
        "arr1 = np.array([1, 2, 3])\n",
        "arr2 = np.array([4, 5, 6])\n",
        "arr3 = np.array([7, 8, 9])\n",
        "stacked_array = vertical_stack([arr1, arr2, arr3])\n",
        "print(stacked_array)"
      ],
      "metadata": {
        "colab": {
          "base_uri": "https://localhost:8080/"
        },
        "id": "gfbZhccUZd2K",
        "outputId": "495114eb-7d22-4909-e9a2-3e8dc8870223"
      },
      "execution_count": 25,
      "outputs": [
        {
          "output_type": "stream",
          "name": "stdout",
          "text": [
            "[[1 2 3]\n",
            " [4 5 6]\n",
            " [7 8 9]]\n"
          ]
        }
      ]
    },
    {
      "cell_type": "code",
      "source": [
        "#Write a Python function using NumPy to create an array of integers within a␣\n",
        "# specified range (inclusive) with a given step size.\n",
        "def create_integer_array(start, stop, step):\n",
        "  return np.arange(start, stop + 1, step)\n",
        "# Example usage\n",
        "integer_array = create_integer_array(1, 10, 2)\n",
        "print(integer_array)"
      ],
      "metadata": {
        "colab": {
          "base_uri": "https://localhost:8080/"
        },
        "id": "LEy01FqlZo5d",
        "outputId": "39f1fdfc-f852-4c52-c073-5fe2b3f492b1"
      },
      "execution_count": 26,
      "outputs": [
        {
          "output_type": "stream",
          "name": "stdout",
          "text": [
            "[1 3 5 7 9]\n"
          ]
        }
      ]
    },
    {
      "cell_type": "code",
      "source": [
        "#Write a Python function using NumPy to generate an array of 10 equally spaced␣\n",
        "# values between 0 and 1 (inclusive).\n",
        "def generate_equally_spaced():\n",
        "  return np.linspace(0, 1, 10)\n",
        "# Example usage\n",
        "equally_spaced_array = generate_equally_spaced()\n",
        "print(equally_spaced_array)"
      ],
      "metadata": {
        "colab": {
          "base_uri": "https://localhost:8080/"
        },
        "id": "eLusj-uKZzSx",
        "outputId": "85b883bb-1787-419b-8d67-747efaa68d43"
      },
      "execution_count": 27,
      "outputs": [
        {
          "output_type": "stream",
          "name": "stdout",
          "text": [
            "[0.         0.11111111 0.22222222 0.33333333 0.44444444 0.55555556\n",
            " 0.66666667 0.77777778 0.88888889 1.        ]\n"
          ]
        }
      ]
    },
    {
      "cell_type": "code",
      "source": [
        "#Write a Python function using NumPy to create an array of 5 logarithmically␣\n",
        "# spaced values between 1 and 1000 (inclusive).\n",
        "def generate_log_spaced():\n",
        "  return np.logspace(0, 3, 5)\n",
        "# Example usage\n",
        "log_spaced_array = generate_log_spaced()\n",
        "print(log_spaced_array)"
      ],
      "metadata": {
        "colab": {
          "base_uri": "https://localhost:8080/"
        },
        "id": "KqUwX4gaaQVB",
        "outputId": "b58a5893-dcfb-421a-e4e9-ebdf9c098d7c"
      },
      "execution_count": 29,
      "outputs": [
        {
          "output_type": "stream",
          "name": "stdout",
          "text": [
            "[   1.            5.62341325   31.6227766   177.827941   1000.        ]\n"
          ]
        }
      ]
    },
    {
      "cell_type": "code",
      "source": [
        "#Create a Pandas DataFrame using a NumPy array that contains 5 rows and 3␣\n",
        "# columns, where the values are random integers between 1 and 100.\n",
        "import pandas as pd\n",
        "\n",
        "# Create a NumPy array with random integers between 1 and 100\n",
        "random_array = np.random.randint(1, 101, size=(5, 3))\n",
        "\n",
        "# Convert the NumPy array to a Pandas DataFrame\n",
        "df = pd.DataFrame(random_array, columns=['A', 'B', 'C'])\n",
        "print(df)"
      ],
      "metadata": {
        "colab": {
          "base_uri": "https://localhost:8080/"
        },
        "id": "2TrX7QebagKP",
        "outputId": "13d47ea8-7f7e-4a2d-db21-ce4895f45366"
      },
      "execution_count": 30,
      "outputs": [
        {
          "output_type": "stream",
          "name": "stdout",
          "text": [
            "    A   B   C\n",
            "0  58  29  24\n",
            "1  29  45  66\n",
            "2  19  13  85\n",
            "3  31  76  49\n",
            "4  97  93  76\n"
          ]
        }
      ]
    },
    {
      "cell_type": "code",
      "source": [
        "#Write a function that takes a Pandas DataFrame and replaces all negative␣\n",
        "# values in a specific column with zeros. Use NumPy operations within the␣\n",
        "# andas DataFrame.\n",
        "def replace_negative_values(df, column_name):\n",
        "  df[column_name] = np.where(df[column_name] < 0, 0, df[column_name])\n",
        "  return df\n",
        "# Example usage\n",
        "df = pd.DataFrame({'A': [1, -2, 3, -4], 'B': [-5, 6, -7, 8]})\n",
        "print(\"Original DataFrame:\")\n",
        "print(df)\n",
        "df = replace_negative_values(df, 'A')\n",
        "print(\"\\nDataFrame after replacing negative values in column 'A':\")\n",
        "print(df)"
      ],
      "metadata": {
        "colab": {
          "base_uri": "https://localhost:8080/"
        },
        "id": "FmaRoqveasJZ",
        "outputId": "916a0766-e622-4077-c2dd-f51f997dcf03"
      },
      "execution_count": 31,
      "outputs": [
        {
          "output_type": "stream",
          "name": "stdout",
          "text": [
            "Original DataFrame:\n",
            "   A  B\n",
            "0  1 -5\n",
            "1 -2  6\n",
            "2  3 -7\n",
            "3 -4  8\n",
            "\n",
            "DataFrame after replacing negative values in column 'A':\n",
            "   A  B\n",
            "0  1 -5\n",
            "1  0  6\n",
            "2  3 -7\n",
            "3  0  8\n"
          ]
        }
      ]
    },
    {
      "cell_type": "code",
      "source": [
        "#Access the 3rd element from the given NumPy array.\n",
        "def access_third_element(arr):\n",
        "  return arr[2]\n",
        "# Example usage\n",
        "arr = np.array([10, 20, 30, 40, 50])\n",
        "third_element = access_third_element(arr)\n",
        "print(\"3rd Element:\", third_element)"
      ],
      "metadata": {
        "colab": {
          "base_uri": "https://localhost:8080/"
        },
        "id": "brcbW_Yfa_P_",
        "outputId": "e4e04588-d350-4b4a-bcf8-2677fe95f919"
      },
      "execution_count": 32,
      "outputs": [
        {
          "output_type": "stream",
          "name": "stdout",
          "text": [
            "3rd Element: 30\n"
          ]
        }
      ]
    },
    {
      "cell_type": "code",
      "source": [
        "#Retrieve the element at index (1, 2) from the 2D NumPy array.\n",
        "def retrieve_element(arr):\n",
        "  return arr[1, 2]\n",
        "# Example usage\n",
        "arr_2d = np.array([[1, 2, 3], [4, 5, 6], [7, 8, 9]])\n",
        "element = retrieve_element(arr_2d)\n",
        "print(\"Element at index (1, 2):\", element)"
      ],
      "metadata": {
        "colab": {
          "base_uri": "https://localhost:8080/"
        },
        "id": "7MA32GvHbQoe",
        "outputId": "790dca19-8295-4942-d1bf-c94353747eb1"
      },
      "execution_count": 33,
      "outputs": [
        {
          "output_type": "stream",
          "name": "stdout",
          "text": [
            "Element at index (1, 2): 6\n"
          ]
        }
      ]
    },
    {
      "cell_type": "code",
      "source": [
        "#Using boolean indexing, extract elements greater than 5 from the given NumPy␣\n",
        "# array.\n",
        "def extract_greater_than_five(arr):\n",
        "  return arr[arr > 5]\n",
        "# Example usage\n",
        "arr = np.array([1, 3, 5, 7, 9])\n",
        "extracted_elements = extract_greater_than_five(arr)\n",
        "print(\"Elements greater than 5:\", extracted_elements)"
      ],
      "metadata": {
        "colab": {
          "base_uri": "https://localhost:8080/"
        },
        "id": "aMxPmqFJbYuY",
        "outputId": "925375ba-d914-4559-c779-5c6ff545a365"
      },
      "execution_count": 34,
      "outputs": [
        {
          "output_type": "stream",
          "name": "stdout",
          "text": [
            "Elements greater than 5: [7 9]\n"
          ]
        }
      ]
    },
    {
      "cell_type": "code",
      "source": [
        "#Perform basic slicing to extract elements from index 2 to 5 (inclusive) from␣\n",
        "#the given NumPy array.\n",
        "def basic_slicing(arr):\n",
        "  return arr[2:6]\n",
        "# Example usage\n",
        "arr = np.array([10, 20, 30, 40, 50, 60, 70])\n",
        "sliced_elements = basic_slicing(arr)\n",
        "print(\"Sliced Elements:\", sliced_elements)"
      ],
      "metadata": {
        "colab": {
          "base_uri": "https://localhost:8080/"
        },
        "id": "atsOm8Debl_0",
        "outputId": "46641039-a676-4b40-c774-e7d4fbce95d8"
      },
      "execution_count": 35,
      "outputs": [
        {
          "output_type": "stream",
          "name": "stdout",
          "text": [
            "Sliced Elements: [30 40 50 60]\n"
          ]
        }
      ]
    },
    {
      "cell_type": "code",
      "source": [
        "# #\"\"\"Slice the 2D NumPy array to extract the sub-array [[2, 3], [5, 6]] from␣\n",
        "# ↪the given array. arr = np.array([10, 20, 30, 40, 50]) arr = np.array([3, 8,␣\n",
        "# ↪2, 10, 5, 7]) arr = np.array([1, 2, 3, 4, 5, 6, 7, 8, 9]) arr_2d = np.\n",
        "# ↪array([[1, 2, 3],\n",
        "# [4, 5, 6],\n",
        "# [7, 8, 9]])\n",
        "# arr_2d = np.array([[1, 2, 3],\n",
        "# [4, 5, 6],\n",
        "# [7, 8, 9]])\"\"\"\n",
        "import numpy as np\n",
        "arr_2d = np.array([[1, 2, 3],\n",
        "[4, 5, 6],\n",
        "[7, 8, 9]])\n",
        "# Extract the sub-array [[2, 3], [5, 6]]\n",
        "sub_array = arr_2d[0:2, 1:3]\n",
        "print(sub_array)"
      ],
      "metadata": {
        "colab": {
          "base_uri": "https://localhost:8080/"
        },
        "id": "fhrB-Qa8bxAe",
        "outputId": "4cafdace-385e-4b11-bcee-281d93e68fe9"
      },
      "execution_count": 36,
      "outputs": [
        {
          "output_type": "stream",
          "name": "stdout",
          "text": [
            "[[2 3]\n",
            " [5 6]]\n"
          ]
        }
      ]
    },
    {
      "cell_type": "code",
      "source": [
        "#Write a NumPy function to extract elements in specific order from a given 2D␣\n",
        "# array based on indices provided in another array.\n",
        "def extract_elements_by_indices(arr, indices):\n",
        "  return arr[indices[:, 0], indices[:, 1]]\n",
        "14\n",
        "# Example usage\n",
        "arr_2d = np.array([[1, 2, 3], [4, 5, 6], [7, 8, 9]])\n",
        "indices = np.array([[0, 1], [1, 2], [2, 0]]) # Indices of elements to extract\n",
        "extracted_elements = extract_elements_by_indices(arr_2d, indices)\n",
        "print(extracted_elements)"
      ],
      "metadata": {
        "colab": {
          "base_uri": "https://localhost:8080/"
        },
        "id": "yxgHUNuNcAdz",
        "outputId": "db086305-83c1-4da6-e9e2-0f6e34774856"
      },
      "execution_count": 37,
      "outputs": [
        {
          "output_type": "stream",
          "name": "stdout",
          "text": [
            "[2 6 7]\n"
          ]
        }
      ]
    },
    {
      "cell_type": "code",
      "source": [
        "# Create a NumPy function that filters elements greater than a threshold from a␣\n",
        "# given 1D array using boolean indexing.\n",
        "def filter_elements_greater_than_threshold(arr, threshold):\n",
        "  return arr[arr > threshold]\n",
        "# Example usage\n",
        "arr = np.array([3, 8, 2, 10, 5, 7])\n",
        "filtered_elements = filter_elements_greater_than_threshold(arr, 5)\n",
        "print(filtered_elements)"
      ],
      "metadata": {
        "colab": {
          "base_uri": "https://localhost:8080/"
        },
        "id": "qQ3afvLCcTHP",
        "outputId": "9065eb4e-4801-4e11-bb17-0aaca09c7b6f"
      },
      "execution_count": 38,
      "outputs": [
        {
          "output_type": "stream",
          "name": "stdout",
          "text": [
            "[ 8 10  7]\n"
          ]
        }
      ]
    },
    {
      "cell_type": "code",
      "source": [
        "# Develop a NumPy function that extracts specific elements from a 3D array␣\n",
        "# using indices provided in three separate arrays for each dimension.\n",
        "def extract_elements_from_3d_array(arr, indices_x, indices_y, indices_z):\n",
        "  return arr[indices_x, indices_y, indices_z]\n",
        "# Example usage\n",
        "arr_3d = np.random.randint(1, 10, size=(4, 4, 4))\n",
        "indices_x = np.array([0, 1, 2])\n",
        "indices_y = np.array([0, 2, 3])\n",
        "indices_z = np.array([1, 3, 0])\n",
        "extracted_elements = extract_elements_from_3d_array(arr_3d, indices_x,indices_y, indices_z)\n",
        "print(extracted_elements)"
      ],
      "metadata": {
        "colab": {
          "base_uri": "https://localhost:8080/"
        },
        "id": "2qD1YRWDcblZ",
        "outputId": "cfd75d65-0b61-423c-b5d6-0af7f4637e68"
      },
      "execution_count": 42,
      "outputs": [
        {
          "output_type": "stream",
          "name": "stdout",
          "text": [
            "[2 6 6]\n"
          ]
        }
      ]
    },
    {
      "cell_type": "code",
      "source": [
        "# Write a NumPy function that returns elements from an array where both two␣\n",
        "# conditions are satisfied using boolean indexing.\n",
        "def extract_elements_with_conditions(arr, condition1, condition2):\n",
        "  return arr[(condition1) & (condition2)]\n",
        "# Example usage\n",
        "arr = np.array([10, 20, 30, 40, 50])\n",
        "condition1 = arr > 20 # Elements greater than 20\n",
        "condition2 = arr < 50 # Elements less than 50\n",
        "extracted_elements = extract_elements_with_conditions(arr, condition1,condition2)\n",
        "print(extracted_elements)"
      ],
      "metadata": {
        "colab": {
          "base_uri": "https://localhost:8080/"
        },
        "id": "A2ramqu0cnlh",
        "outputId": "e825998b-c46c-4859-e998-250a61fa8c2c"
      },
      "execution_count": 44,
      "outputs": [
        {
          "output_type": "stream",
          "name": "stdout",
          "text": [
            "[30 40]\n"
          ]
        }
      ]
    },
    {
      "cell_type": "code",
      "source": [
        "# Create a NumPy function that extracts elements from a 2D array using row and␣\n",
        "# column indices provided in separate arrays.\n",
        "def extract_elements_by_row_col(arr, row_indices, col_indices):\n",
        "  return arr[row_indices, col_indices]\n",
        "# Example usage\n",
        "arr_2d = np.array([[1, 2, 3], [4, 5, 6], [7, 8, 9]])\n",
        "row_indices = np.array([0, 2])\n",
        "col_indices = np.array([1, 2])\n",
        "extracted_elements = extract_elements_by_row_col(arr_2d, row_indices,col_indices)\n",
        "print(extracted_elements)"
      ],
      "metadata": {
        "colab": {
          "base_uri": "https://localhost:8080/"
        },
        "id": "3g5UOng1dRjz",
        "outputId": "f44328dc-74a7-41ca-f70e-926ac8bf4d95"
      },
      "execution_count": 46,
      "outputs": [
        {
          "output_type": "stream",
          "name": "stdout",
          "text": [
            "[2 9]\n"
          ]
        }
      ]
    },
    {
      "cell_type": "code",
      "source": [
        " # Given an array arr of shape (3, 3), add a scalar value of 5 to each element␣\n",
        "# using NumPy broadcasting.\n",
        "def add_scalar_using_broadcasting(arr, scalar):\n",
        "  return arr + scalar\n",
        "# Example usage\n",
        "arr_3x3 = np.array([[1, 2, 3], [4, 5, 6], [7, 8, 9]])\n",
        "result = add_scalar_using_broadcasting(arr_3x3, 5)\n",
        "print(result)\n",
        "\n"
      ],
      "metadata": {
        "colab": {
          "base_uri": "https://localhost:8080/"
        },
        "id": "fqlXA5WQdf5h",
        "outputId": "4bea1fa1-9410-4c82-9e80-53113759c5cc"
      },
      "execution_count": 47,
      "outputs": [
        {
          "output_type": "stream",
          "name": "stdout",
          "text": [
            "[[ 6  7  8]\n",
            " [ 9 10 11]\n",
            " [12 13 14]]\n"
          ]
        }
      ]
    },
    {
      "cell_type": "code",
      "source": [
        "# Consider two arrays arr1 of shape (1, 3) and arr2 of shape (3, 4). Multiply␣\n",
        "# each row of arr2 by the corresponding element in arr1 using NumPy␣\n",
        "# broadcasting.\n",
        "def multiply_rows_by_corresponding_elements(arr1, arr2):\n",
        "  return arr2 * arr1.T # Transpose arr1 to match the shape of arr2\n",
        "# Example usage\n",
        "arr1 = np.array([[1, 2, 3]])\n",
        "arr2 = np.array([[4, 5, 6], [7, 8, 9], [10, 11, 12]])\n",
        "result = multiply_rows_by_corresponding_elements(arr1, arr2)\n",
        "print(result)\n"
      ],
      "metadata": {
        "colab": {
          "base_uri": "https://localhost:8080/"
        },
        "id": "iOtZiWKFeyV9",
        "outputId": "05f05baa-4d86-45ca-a352-ebd03683f3eb"
      },
      "execution_count": 48,
      "outputs": [
        {
          "output_type": "stream",
          "name": "stdout",
          "text": [
            "[[ 4  5  6]\n",
            " [14 16 18]\n",
            " [30 33 36]]\n"
          ]
        }
      ]
    },
    {
      "cell_type": "code",
      "source": [
        "# Given a 1D array arr1 of shape (1, 4) and a 2D array arr2 of shape (4, 3),␣\n",
        "# add arr1 to each row of arr2 using NumPy broadcasting.\n",
        "def add_row_to_each(arr1, arr2):\n",
        "  return arr2 + arr1\n",
        "# Example usage\n",
        "arr1 = np.array([1, 2, 3]) # Shape (1, 3)\n",
        "arr2 = np.array([[4, 5, 6], [7, 8, 9], [10, 11, 12]]) # Shape (3, 3)\n",
        "result = add_row_to_each(arr1, arr2)\n",
        "print(result)\n"
      ],
      "metadata": {
        "colab": {
          "base_uri": "https://localhost:8080/"
        },
        "id": "XVkuRyb4e9Td",
        "outputId": "ce66152b-b76f-4320-e96a-cefbd56f0996"
      },
      "execution_count": 49,
      "outputs": [
        {
          "output_type": "stream",
          "name": "stdout",
          "text": [
            "[[ 5  7  9]\n",
            " [ 8 10 12]\n",
            " [11 13 15]]\n"
          ]
        }
      ]
    },
    {
      "cell_type": "code",
      "source": [
        "# Consider two arrays arr1 of shape (3, 1) and arr2 of shape (1, 3). Add these␣\n",
        "# arrays using NumPy broadcasting.\n",
        "def add_arrays_using_broadcasting(arr1, arr2):\n",
        "  return arr1 + arr2\n",
        "# Example usage\n",
        "arr1 = np.array([[1], [2], [3]]) # Shape (3, 1)\n",
        "arr2 = np.array([[4, 5, 6]]) # Shape (1, 3)\n",
        "result = add_arrays_using_broadcasting(arr1, arr2)\n",
        "print(result)"
      ],
      "metadata": {
        "colab": {
          "base_uri": "https://localhost:8080/"
        },
        "id": "FcjqddMZfFCf",
        "outputId": "cdb36e6d-3717-4e5f-9741-a0af9ddbd545"
      },
      "execution_count": 50,
      "outputs": [
        {
          "output_type": "stream",
          "name": "stdout",
          "text": [
            "[[5 6 7]\n",
            " [6 7 8]\n",
            " [7 8 9]]\n"
          ]
        }
      ]
    },
    {
      "cell_type": "code",
      "source": [
        " # Given arrays arr1 of shape (2, 3) and arr2 of shape (2, 2), perform␣\n",
        "# multiplication using NumPy broadcasting. Handle the shape incompatibility.\n",
        "import numpy as np\n",
        "arr1 = np.array([[1, 2, 3], [4, 5, 6]]) # Shape (2, 3)\n",
        "arr2 = np.array([[1, 2], [3, 4]]) # Shape (2, 2)\n",
        "# Matrix multiplication (dot product)\n",
        "result = np.dot(arr1, arr2)\n",
        "print(result)\n"
      ],
      "metadata": {
        "colab": {
          "base_uri": "https://localhost:8080/",
          "height": 193
        },
        "id": "MMWdD3y3fUs7",
        "outputId": "990d366d-e906-425c-a088-58dd1ba4111a"
      },
      "execution_count": 51,
      "outputs": [
        {
          "output_type": "error",
          "ename": "ValueError",
          "evalue": "shapes (2,3) and (2,2) not aligned: 3 (dim 1) != 2 (dim 0)",
          "traceback": [
            "\u001b[0;31m---------------------------------------------------------------------------\u001b[0m",
            "\u001b[0;31mValueError\u001b[0m                                Traceback (most recent call last)",
            "\u001b[0;32m<ipython-input-51-e1ce59b48290>\u001b[0m in \u001b[0;36m<cell line: 0>\u001b[0;34m()\u001b[0m\n\u001b[1;32m      5\u001b[0m \u001b[0marr2\u001b[0m \u001b[0;34m=\u001b[0m \u001b[0mnp\u001b[0m\u001b[0;34m.\u001b[0m\u001b[0marray\u001b[0m\u001b[0;34m(\u001b[0m\u001b[0;34m[\u001b[0m\u001b[0;34m[\u001b[0m\u001b[0;36m1\u001b[0m\u001b[0;34m,\u001b[0m \u001b[0;36m2\u001b[0m\u001b[0;34m]\u001b[0m\u001b[0;34m,\u001b[0m \u001b[0;34m[\u001b[0m\u001b[0;36m3\u001b[0m\u001b[0;34m,\u001b[0m \u001b[0;36m4\u001b[0m\u001b[0;34m]\u001b[0m\u001b[0;34m]\u001b[0m\u001b[0;34m)\u001b[0m \u001b[0;31m# Shape (2, 2)\u001b[0m\u001b[0;34m\u001b[0m\u001b[0;34m\u001b[0m\u001b[0m\n\u001b[1;32m      6\u001b[0m \u001b[0;31m# Matrix multiplication (dot product)\u001b[0m\u001b[0;34m\u001b[0m\u001b[0;34m\u001b[0m\u001b[0m\n\u001b[0;32m----> 7\u001b[0;31m \u001b[0mresult\u001b[0m \u001b[0;34m=\u001b[0m \u001b[0mnp\u001b[0m\u001b[0;34m.\u001b[0m\u001b[0mdot\u001b[0m\u001b[0;34m(\u001b[0m\u001b[0marr1\u001b[0m\u001b[0;34m,\u001b[0m \u001b[0marr2\u001b[0m\u001b[0;34m)\u001b[0m\u001b[0;34m\u001b[0m\u001b[0;34m\u001b[0m\u001b[0m\n\u001b[0m\u001b[1;32m      8\u001b[0m \u001b[0mprint\u001b[0m\u001b[0;34m(\u001b[0m\u001b[0mresult\u001b[0m\u001b[0;34m)\u001b[0m\u001b[0;34m\u001b[0m\u001b[0;34m\u001b[0m\u001b[0m\n",
            "\u001b[0;31mValueError\u001b[0m: shapes (2,3) and (2,2) not aligned: 3 (dim 1) != 2 (dim 0)"
          ]
        }
      ]
    },
    {
      "cell_type": "code",
      "source": [
        " # Calculate column wise mean for the given array:\n",
        "arr = np.array([[1, 2, 3], [4, 5, 6]])\n",
        "column_mean = np.mean(arr, axis=0)\n",
        "print(column_mean)\n"
      ],
      "metadata": {
        "colab": {
          "base_uri": "https://localhost:8080/"
        },
        "id": "gw6aXGvPfpyo",
        "outputId": "6df2fa53-1d36-4ff5-c8f5-82ba17f5e9ae"
      },
      "execution_count": 52,
      "outputs": [
        {
          "output_type": "stream",
          "name": "stdout",
          "text": [
            "[2.5 3.5 4.5]\n"
          ]
        }
      ]
    },
    {
      "cell_type": "code",
      "source": [
        "# Find maximum value in each row of the given array:\n",
        "row_max = np.max(arr, axis=1)\n",
        "print(row_max)"
      ],
      "metadata": {
        "colab": {
          "base_uri": "https://localhost:8080/"
        },
        "id": "VbfjaTiffz3M",
        "outputId": "ac400731-0f48-4f05-ee35-5936f4c5f97b"
      },
      "execution_count": 53,
      "outputs": [
        {
          "output_type": "stream",
          "name": "stdout",
          "text": [
            "[3 6]\n"
          ]
        }
      ]
    },
    {
      "cell_type": "code",
      "source": [
        "# For the given array, find indices of maximum value in each column.\n",
        "indices_max_column = np.argmax(arr, axis=0)\n",
        "print(indices_max_column)"
      ],
      "metadata": {
        "colab": {
          "base_uri": "https://localhost:8080/"
        },
        "id": "mBF-KyXDf6Dx",
        "outputId": "69f8f653-6f2b-4603-d9be-cabb8b6eaec6"
      },
      "execution_count": 54,
      "outputs": [
        {
          "output_type": "stream",
          "name": "stdout",
          "text": [
            "[1 1 1]\n"
          ]
        }
      ]
    },
    {
      "cell_type": "code",
      "source": [
        "# For the given array, apply custom function to calculate moving sum along rows.\n",
        "def moving_sum(arr):\n",
        "  return np.cumsum(arr, axis=1)\n",
        "arr = np.array([[1, 2, 3], [4, 5, 6]])\n",
        "moving_sum_result = moving_sum(arr)\n",
        "print(moving_sum_result)\n"
      ],
      "metadata": {
        "colab": {
          "base_uri": "https://localhost:8080/"
        },
        "id": "8QNMTFDbf9Ij",
        "outputId": "5d0f7ee2-580e-4d13-f3b6-73c64a3b2c09"
      },
      "execution_count": 56,
      "outputs": [
        {
          "output_type": "stream",
          "name": "stdout",
          "text": [
            "[[ 1  3  6]\n",
            " [ 4  9 15]]\n"
          ]
        }
      ]
    },
    {
      "cell_type": "code",
      "source": [
        "# In the given array, check if all elements in each column are even.\n",
        "arr = np.array([[2, 4, 6], [3, 5, 7]])\n",
        "# Check if all elements in each column are even\n",
        "even_check = np.all(arr % 2 == 0, axis=0)\n",
        "print(even_check)\n"
      ],
      "metadata": {
        "colab": {
          "base_uri": "https://localhost:8080/"
        },
        "id": "ymFjVQiZgAN3",
        "outputId": "c81048e8-acc7-4b5c-d42e-6699cbf1de6a"
      },
      "execution_count": 57,
      "outputs": [
        {
          "output_type": "stream",
          "name": "stdout",
          "text": [
            "[False False False]\n"
          ]
        }
      ]
    },
    {
      "cell_type": "code",
      "source": [
        "# arr = np.array([[1, 2, 3], [4, 5, 6]]) arr = np.array([[1, 2, 3], [4, 5, 6]])␣\n",
        "# ↪arr = np.array([[1, 2, 3], [4, 5, 6]]) arr = np.array([[1, 2, 3], [4, 5,␣\n",
        "# ↪6]]) arr = np.array([[2, 4, 6], [3, 5, 7]]) 46. Given a NumPy array arr,␣\n",
        "# ↪reshape it into a matrix of dimensions m rows and n columns. Return the␣\n",
        "# ↪reshaped matrix.\n",
        "arr = np.array([1, 2, 3, 4, 5, 6])\n",
        "# Reshape into 2 rows and 3 columns\n",
        "reshaped_arr = arr.reshape(2, 3)\n",
        "print(reshaped_arr)\n"
      ],
      "metadata": {
        "colab": {
          "base_uri": "https://localhost:8080/"
        },
        "id": "nuclMRhrgPAj",
        "outputId": "fc4fabc6-4b4d-4e83-dce1-0e2117891a1c"
      },
      "execution_count": 58,
      "outputs": [
        {
          "output_type": "stream",
          "name": "stdout",
          "text": [
            "[[1 2 3]\n",
            " [4 5 6]]\n"
          ]
        }
      ]
    },
    {
      "cell_type": "code",
      "source": [
        "# Create a function that takes a matrix as input and returns the flattened␣\n",
        "# array.\n",
        "def flatten_matrix(matrix):\n",
        "  return matrix.flatten()\n",
        "arr = np.array([[1, 2, 3], [4, 5, 6]])\n",
        "flattened_arr = flatten_matrix(arr)\n",
        "print(flattened_arr)"
      ],
      "metadata": {
        "colab": {
          "base_uri": "https://localhost:8080/"
        },
        "id": "ZtxHMP5ZgVi2",
        "outputId": "30c8f868-cdad-4d96-bf54-6d01419d891f"
      },
      "execution_count": 59,
      "outputs": [
        {
          "output_type": "stream",
          "name": "stdout",
          "text": [
            "[1 2 3 4 5 6]\n"
          ]
        }
      ]
    },
    {
      "cell_type": "code",
      "source": [
        "# Write a function that concatenates two given arrays along a specified axis.\n",
        "def concatenate_arrays(arr1, arr2, axis):\n",
        "  return np.concatenate((arr1, arr2), axis=axis)\n",
        "arr1 = np.array([[1, 2], [3, 4]])\n",
        "arr2 = np.array([[5, 6], [7, 8]])\n",
        "# Concatenate along axis 0 (vertically)\n",
        "concatenated_arr = concatenate_arrays(arr1, arr2, axis=0)\n",
        "print(concatenated_arr)\n"
      ],
      "metadata": {
        "colab": {
          "base_uri": "https://localhost:8080/"
        },
        "id": "lu3ret7hgfGr",
        "outputId": "21a4e94d-372d-456f-d755-23f05e62d53c"
      },
      "execution_count": 60,
      "outputs": [
        {
          "output_type": "stream",
          "name": "stdout",
          "text": [
            "[[1 2]\n",
            " [3 4]\n",
            " [5 6]\n",
            " [7 8]]\n"
          ]
        }
      ]
    },
    {
      "cell_type": "code",
      "source": [
        "# Create a function that splits an array into multiple sub-arrays along a␣\n",
        "# specified axis.\n",
        "def split_array(arr, indices, axis):\n",
        "  return np.split(arr, indices, axis=axis)\n",
        "arr = np.array([[1, 2, 3], [4, 5, 6], [7, 8, 9]])\n",
        "# Split along axis 0 (rows)\n",
        "split_arr = split_array(arr, [1, 2], axis=0)\n",
        "for sub_array in split_arr:\n",
        "  print(sub_array)\n"
      ],
      "metadata": {
        "colab": {
          "base_uri": "https://localhost:8080/"
        },
        "id": "iSep375bglnW",
        "outputId": "84f077f6-4b83-47e1-a7c0-38162ff891e4"
      },
      "execution_count": 62,
      "outputs": [
        {
          "output_type": "stream",
          "name": "stdout",
          "text": [
            "[[1 2 3]]\n",
            "[[4 5 6]]\n",
            "[[7 8 9]]\n"
          ]
        }
      ]
    },
    {
      "cell_type": "code",
      "source": [
        "# Write a function that inserts and then deletes elements from a given array at specified indices.\n",
        "def insert_and_delete(arr, insert_idx, insert_values, delete_idx):\n",
        "  arr = np.insert(arr, insert_idx, insert_values)\n",
        "  arr = np.delete(arr, delete_idx)\n",
        "  return arr\n",
        "arr = np.array([1, 2, 3, 4, 5])\n",
        "# Insert [6, 7] at index 2, then delete element at index 3\n",
        "modified_arr = insert_and_delete(arr, 2, [6, 7], 3)\n",
        "print(modified_arr)\n"
      ],
      "metadata": {
        "colab": {
          "base_uri": "https://localhost:8080/"
        },
        "id": "OGd8-SE-gtnD",
        "outputId": "e20fc8e3-e20d-4662-d247-0678e60ea9c5"
      },
      "execution_count": 63,
      "outputs": [
        {
          "output_type": "stream",
          "name": "stdout",
          "text": [
            "[1 2 6 3 4 5]\n"
          ]
        }
      ]
    },
    {
      "cell_type": "code",
      "source": [
        "# Create a NumPy array arr1 with random integers and another array arr2 with␣\n",
        "# integers from 1 to 10. Perform element-wise addition between arr1 and arr2.\n",
        "import numpy as np\n",
        "arr1 = np.random.randint(1, 10, size=5) # Random integers\n",
        "arr2 = np.arange(1, 11, 2) # Integers from 1 to 10\n",
        "result_addition = arr1 + arr2\n",
        "print(\"Element-wise addition:\", result_addition)"
      ],
      "metadata": {
        "colab": {
          "base_uri": "https://localhost:8080/"
        },
        "id": "o35ziTdkg_xm",
        "outputId": "987e3707-47f6-4a59-f00d-76360894b250"
      },
      "execution_count": 64,
      "outputs": [
        {
          "output_type": "stream",
          "name": "stdout",
          "text": [
            "Element-wise addition: [ 7 12  7 14 11]\n"
          ]
        }
      ]
    },
    {
      "cell_type": "code",
      "source": [
        " # Generate a NumPy array arr1 with sequential integers from 10 to 1 and another␣\n",
        "# array arr2 with integers from 1 to 10. Subtract arr2 from arr1 element-wise.\n",
        "arr1 = np.arange(10, 0, -1) # Sequential integers from 10 to 1\n",
        "arr2 = np.arange(1, 11) # Integers from 1 to 10\n",
        "result_subtraction = arr1 - arr2\n",
        "print(\"Element-wise subtraction:\", result_subtraction)\n"
      ],
      "metadata": {
        "colab": {
          "base_uri": "https://localhost:8080/"
        },
        "id": "hNJJzl6MhFJn",
        "outputId": "f0ecab3e-94bf-49a1-ead3-ccb981ab9dd3"
      },
      "execution_count": 65,
      "outputs": [
        {
          "output_type": "stream",
          "name": "stdout",
          "text": [
            "Element-wise subtraction: [ 9  7  5  3  1 -1 -3 -5 -7 -9]\n"
          ]
        }
      ]
    },
    {
      "cell_type": "code",
      "source": [
        "# Create a NumPy array arr1 with random integers and another array arr2 with␣\n",
        "# ↪integers from 1 to 5. Perform element-wise multiplication between arr1 and␣\n",
        "# ↪arr2.\n",
        "arr1 = np.random.randint(1, 10, size=5) # Random integers\n",
        "arr2 = np.arange(1, 6) # Integers from 1 to 5\n",
        "result_multiplication = arr1 * arr2\n",
        "print(\"Element-wise multiplication:\", result_multiplication)\n"
      ],
      "metadata": {
        "colab": {
          "base_uri": "https://localhost:8080/"
        },
        "id": "Q9GBTKnnhKki",
        "outputId": "0cb068bc-9a0f-4344-c9d0-271f1471deda"
      },
      "execution_count": 66,
      "outputs": [
        {
          "output_type": "stream",
          "name": "stdout",
          "text": [
            "Element-wise multiplication: [ 1 10 21 24 40]\n"
          ]
        }
      ]
    },
    {
      "cell_type": "code",
      "source": [
        "# Generate a NumPy array arr1 with even integers from 2 to 10 and another array␣\n",
        "# ↪arr2 with integers from 1 to 5. Perform element-wise division of arr1 by␣\n",
        "# ↪arr2.\n",
        "arr1 = np.arange(2, 12, 2) # Even integers from 2 to 10\n",
        "arr2 = np.arange(1, 6) # Integers from 1 to 5\n",
        "result_division = arr1 / arr2\n",
        "print(\"Element-wise division:\", result_division)"
      ],
      "metadata": {
        "colab": {
          "base_uri": "https://localhost:8080/"
        },
        "id": "daWWnj5nhNnJ",
        "outputId": "34a564c8-c41f-4c6e-ec1e-fbcdaa326bf5"
      },
      "execution_count": 67,
      "outputs": [
        {
          "output_type": "stream",
          "name": "stdout",
          "text": [
            "Element-wise division: [2. 2. 2. 2. 2.]\n"
          ]
        }
      ]
    },
    {
      "cell_type": "code",
      "source": [
        "# Create a NumPy array arr1 with integers from 1 to 5 and another array arr2␣\n",
        "# ↪with the same numbers reversed. Calculate the exponentiation of arr1 raised␣\n",
        "# ↪to the power of arr2 element-wise.\n",
        "arr1 = np.array([1, 2, 3, 4, 5]) # Integers from 1 to 5\n",
        "arr2 = arr1[::-1] # Reverse of arr1\n",
        "result_exponentiation = arr1 ** arr2\n",
        "print(\"Element-wise exponentiation:\", result_exponentiation)"
      ],
      "metadata": {
        "colab": {
          "base_uri": "https://localhost:8080/"
        },
        "id": "NNUwUbHQhVvw",
        "outputId": "88a71cee-9324-432d-853f-f1645c72a725"
      },
      "execution_count": 68,
      "outputs": [
        {
          "output_type": "stream",
          "name": "stdout",
          "text": [
            "Element-wise exponentiation: [ 1 16 27 16  5]\n"
          ]
        }
      ]
    },
    {
      "cell_type": "code",
      "source": [
        "# Write a function that counts the occurrences of a specific substring within a␣\n",
        "# NumPy array of strings.\n",
        "def count_substring(arr, substring):\n",
        "  return np.char.count(arr, substring)\n",
        "arr = np.array(['hello', 'world', 'hello', 'numpy', 'hello'])\n",
        "substring = 'hello'\n",
        "occurrences = count_substring(arr, substring)\n",
        "print(f\"Occurrences of '{substring}':\", occurrences)\n"
      ],
      "metadata": {
        "colab": {
          "base_uri": "https://localhost:8080/"
        },
        "id": "S0SRBvk2hdDb",
        "outputId": "108cc8f8-1d8d-48cc-e9be-91b33e8f1c13"
      },
      "execution_count": 69,
      "outputs": [
        {
          "output_type": "stream",
          "name": "stdout",
          "text": [
            "Occurrences of 'hello': [1 0 1 0 1]\n"
          ]
        }
      ]
    },
    {
      "cell_type": "code",
      "source": [
        "# Write a function that extracts uppercase characters from a NumPy array of␣\n",
        "# strings.\n",
        "def extract_uppercase(arr):\n",
        "  return np.char.add(np.char.upper(arr), '')\n",
        "arr = np.array(['Hello', 'World', 'OpenAI', 'GPT'])\n",
        "uppercase_chars = extract_uppercase(arr)\n",
        "print(\"Uppercase characters:\", uppercase_chars)\n"
      ],
      "metadata": {
        "colab": {
          "base_uri": "https://localhost:8080/"
        },
        "id": "t6okTJA-hmok",
        "outputId": "a14b51e3-df33-48ee-9ee8-64300213a3ff"
      },
      "execution_count": 70,
      "outputs": [
        {
          "output_type": "stream",
          "name": "stdout",
          "text": [
            "Uppercase characters: ['HELLO' 'WORLD' 'OPENAI' 'GPT']\n"
          ]
        }
      ]
    },
    {
      "cell_type": "code",
      "source": [
        "# original_array = np.array([1, 2, 3, 4, 5, 6]) input_matrix = np.array([[1, 2,␣\n",
        "# ↪3], [4, 5, 6]]) original_array = np.array([[1, 2, 3], [4, 5, 6], [7, 8, 9]])␣\n",
        "# ↪arr = np.array(['hello', 'world', 'hello', 'numpy', 'hello']) arr = np.\n",
        "# ↪array(['Hello', 'World', 'OpenAI', 'GPT']) array1 = np.array([[1, 2], [3,␣\n",
        "# ↪4]]) array2 = np.array([[5, 6], [7, 8]]) original_array = np.array([1, 2, 3,␣\n",
        "# ↪4, 5]) indices_to_insert = [2, 4] values_to_insert = [10, 11]␣\n",
        "# ↪indices_to_delete = [1, 3] 58. Write a function that replaces occurrences of␣\n",
        "# ↪a substring in a NumPy array of strings with a new string.\n",
        "def replace_substring(arr, old, new):\n",
        "  return np.char.replace(arr, old, new)\n",
        "arr = np.array(['hello', 'world', 'hello', 'numpy', 'hello'])\n",
        "replaced_array = replace_substring(arr, 'hello', 'hi')\n",
        "print(\"Replaced array:\", replaced_array)"
      ],
      "metadata": {
        "colab": {
          "base_uri": "https://localhost:8080/"
        },
        "id": "GMVYTVzihuID",
        "outputId": "f8ccbca4-f3c6-4429-eb34-a47fa1fa28aa"
      },
      "execution_count": 73,
      "outputs": [
        {
          "output_type": "stream",
          "name": "stdout",
          "text": [
            "Replaced array: ['hi' 'world' 'hi' 'numpy' 'hi']\n"
          ]
        }
      ]
    },
    {
      "cell_type": "code",
      "source": [
        "# Write a function that concatenates strings in a NumPy array element-wise.\n",
        "def concatenate_strings(arr):\n",
        "  return np.char.add(arr[:-1], arr[1:])\n",
        "arr = np.array(['hello', 'world', 'numpy'])\n",
        "concatenated = concatenate_strings(arr)\n",
        "print(\"Concatenated strings:\", concatenated)"
      ],
      "metadata": {
        "colab": {
          "base_uri": "https://localhost:8080/"
        },
        "id": "Edyx7iPQh3Hx",
        "outputId": "27aee27b-a9dc-4cce-888d-9a1eb18a25b1"
      },
      "execution_count": 76,
      "outputs": [
        {
          "output_type": "stream",
          "name": "stdout",
          "text": [
            "Concatenated strings: ['helloworld' 'worldnumpy']\n"
          ]
        }
      ]
    },
    {
      "cell_type": "code",
      "source": [
        "# Write a function that finds the length of the longest string in a NumPy array.\n",
        "def longest_string_length(arr):\n",
        "  return np.max(np.char.str_len(arr))\n",
        "arr = np.array(['apple', 'banana', 'grape', 'pineapple'])\n",
        "longest_length = longest_string_length(arr)\n",
        "print(\"Length of the longest string:\", longest_length)"
      ],
      "metadata": {
        "colab": {
          "base_uri": "https://localhost:8080/"
        },
        "id": "eg2Up3RoiCnz",
        "outputId": "9e7fad38-d8fc-47e2-bb86-208deb5bf85d"
      },
      "execution_count": 78,
      "outputs": [
        {
          "output_type": "stream",
          "name": "stdout",
          "text": [
            "Length of the longest string: 9\n"
          ]
        }
      ]
    },
    {
      "cell_type": "code",
      "source": [
        " # Create a dataset of 100 random integers between 1 and 1000. Compute the mean,␣\n",
        "# ↪median, variance, and standard deviation of the dataset using NumPy's␣\n",
        "# ↪functions.\n",
        "import numpy as np\n",
        "# Generate 100 random integers between 1 and 1000\n",
        "dataset = np.random.randint(1, 1001, size=100)\n",
        "# Calculate mean, median, variance, and standard deviation\n",
        "mean = np.mean(dataset)\n",
        "median = np.median(dataset)\n",
        "variance = np.var(dataset)\n",
        "std_deviation = np.std(dataset)\n",
        "print(f\"Mean: {mean}\")\n",
        "print(f\"Median: {median}\")\n",
        "print(f\"Variance: {variance}\")\n",
        "print(f\"Standard Deviation: {std_deviation}\")\n"
      ],
      "metadata": {
        "colab": {
          "base_uri": "https://localhost:8080/"
        },
        "id": "5J9PARlZiOO5",
        "outputId": "79877c56-3d96-4fa8-9d40-134257f66903"
      },
      "execution_count": 79,
      "outputs": [
        {
          "output_type": "stream",
          "name": "stdout",
          "text": [
            "Mean: 450.0\n",
            "Median: 430.5\n",
            "Variance: 71444.32\n",
            "Standard Deviation: 267.2907031679179\n"
          ]
        }
      ]
    },
    {
      "cell_type": "code",
      "source": [
        "# Generate an array of 50 random numbers between 1 and 100. Find the 25th and␣\n",
        "# 75th percentiles of the dataset.\n",
        "# Generate 50 random numbers between 1 and 100\n",
        "random_numbers = np.random.randint(1, 101, size=50)\n",
        "# Calculate 25th and 75th percentiles\n",
        "percentile_25 = np.percentile(random_numbers, 25)\n",
        "percentile_75 = np.percentile(random_numbers, 75)\n",
        "print(f\"25th Percentile: {percentile_25}\")\n",
        "print(f\"75th Percentile: {percentile_75}\")\n"
      ],
      "metadata": {
        "colab": {
          "base_uri": "https://localhost:8080/"
        },
        "id": "7CW3h3wriajD",
        "outputId": "12871666-98a0-4182-92fc-e29d8996ef35"
      },
      "execution_count": 80,
      "outputs": [
        {
          "output_type": "stream",
          "name": "stdout",
          "text": [
            "25th Percentile: 29.5\n",
            "75th Percentile: 79.0\n"
          ]
        }
      ]
    },
    {
      "cell_type": "code",
      "source": [
        "# Create two arrays representing two sets of variables. Compute the correlation␣\n",
        "# coefficient between these arrays using NumPy's corrcoef function.\n",
        "# Create two arrays representing two sets of variables\n",
        "arr1 = np.random.rand(50) # Random array of 50 elements\n",
        "arr2 = np.random.rand(50) # Another random array of 50 elements\n",
        "# Compute the correlation coefficient\n",
        "correlation_matrix = np.corrcoef(arr1, arr2)\n",
        "correlation_coefficient = correlation_matrix[0, 1]\n",
        "print(f\"Correlation Coefficient: {correlation_coefficient}\")\n"
      ],
      "metadata": {
        "colab": {
          "base_uri": "https://localhost:8080/"
        },
        "id": "o9w7-0EEig9z",
        "outputId": "0c3602bd-dc17-44d5-aa09-f619ead8fd42"
      },
      "execution_count": 81,
      "outputs": [
        {
          "output_type": "stream",
          "name": "stdout",
          "text": [
            "Correlation Coefficient: 0.15817279002256737\n"
          ]
        }
      ]
    },
    {
      "cell_type": "code",
      "source": [
        " # Create two matrices and perform matrix multiplication using NumPy's dot␣\n",
        "# function.\n",
        "# Create two matrices\n",
        "matrix1 = np.random.randint(1, 10, (3, 2)) # 3x2 matrix\n",
        "matrix2 = np.random.randint(1, 10, (2, 4)) # 2x4 matrix\n",
        "# Perform matrix multiplication\n",
        "result_matrix = np.dot(matrix1, matrix2)\n",
        "print(\"Matrix 1:\\n\", matrix1)\n",
        "print(\"Matrix 2:\\n\", matrix2)\n",
        "print(\"Result of Matrix Multiplication:\\n\", result_matrix)\n"
      ],
      "metadata": {
        "colab": {
          "base_uri": "https://localhost:8080/"
        },
        "id": "AB4_pLFpimK5",
        "outputId": "c5d96712-fe9e-4ca7-fc2d-4832b7580ebb"
      },
      "execution_count": 82,
      "outputs": [
        {
          "output_type": "stream",
          "name": "stdout",
          "text": [
            "Matrix 1:\n",
            " [[6 8]\n",
            " [6 6]\n",
            " [6 6]]\n",
            "Matrix 2:\n",
            " [[2 8 6 8]\n",
            " [5 6 4 7]]\n",
            "Result of Matrix Multiplication:\n",
            " [[ 52  96  68 104]\n",
            " [ 42  84  60  90]\n",
            " [ 42  84  60  90]]\n"
          ]
        }
      ]
    },
    {
      "cell_type": "code",
      "source": [
        " # Create an array of 50 integers between 10 and 1000. Calculate the 10th, 50th␣\n",
        "# (median), and 90th percentiles along with the first and third quartiles.\n",
        "# Generate 50 integers between 10 and 1000\n",
        "int_array = np.random.randint(10, 1001, size=50)\n",
        "# Calculate percentiles and quartiles\n",
        "percentile_10 = np.percentile(int_array, 10)\n",
        "percentile_50 = np.percentile(int_array, 50) # Median\n",
        "percentile_90 = np.percentile(int_array, 90)\n",
        "q1 = np.percentile(int_array, 25) # First quartile\n",
        "q3 = np.percentile(int_array, 75) # Third quartile\n",
        "print(f\"10th Percentile: {percentile_10}\")\n",
        "print(f\"50th Percentile (Median): {percentile_50}\")\n",
        "print(f\"90th Percentile: {percentile_90}\")\n",
        "print(f\"First Quartile (Q1): {q1}\")\n",
        "print(f\"Third Quartile (Q3): {q3}\")\n"
      ],
      "metadata": {
        "colab": {
          "base_uri": "https://localhost:8080/"
        },
        "id": "99zm820LirPZ",
        "outputId": "7dc2834e-e1d3-41be-8336-5c57799a001f"
      },
      "execution_count": 83,
      "outputs": [
        {
          "output_type": "stream",
          "name": "stdout",
          "text": [
            "10th Percentile: 101.20000000000002\n",
            "50th Percentile (Median): 586.0\n",
            "90th Percentile: 917.2\n",
            "First Quartile (Q1): 401.25\n",
            "Third Quartile (Q3): 813.0\n"
          ]
        }
      ]
    },
    {
      "cell_type": "code",
      "source": [
        "# Create a NumPy array of integers and find the index of a specific element.\n",
        "# Generate a random array of integers\n",
        "arr = np.random.randint(1, 20, size=10)\n",
        "# Find the index of a specific element (e.g., 10)\n",
        "element = 10\n",
        "index = np.where(arr == element)\n",
        "print(f\"Array: {arr}\")\n",
        "print(f\"Index of element {element}: {index}\")\n"
      ],
      "metadata": {
        "colab": {
          "base_uri": "https://localhost:8080/"
        },
        "id": "2B7Gln60iwfA",
        "outputId": "5ac20acb-13e8-4bd3-db66-3f351c8e1c70"
      },
      "execution_count": 84,
      "outputs": [
        {
          "output_type": "stream",
          "name": "stdout",
          "text": [
            "Array: [ 4 13 10 14  1 10  4 14 14 12]\n",
            "Index of element 10: (array([2, 5]),)\n"
          ]
        }
      ]
    },
    {
      "cell_type": "code",
      "source": [
        "# Generate a random NumPy array and sort it in ascending order.\n",
        "# Generate a random array\n",
        "arr = np.random.randint(1, 100, size=10)\n",
        "# Sort the array in ascending order\n",
        "sorted_arr = np.sort(arr)\n",
        "print(f\"Original Array: {arr}\")\n",
        "print(f\"Sorted Array: {sorted_arr}\")\n"
      ],
      "metadata": {
        "colab": {
          "base_uri": "https://localhost:8080/"
        },
        "id": "U73hL8odi0qS",
        "outputId": "30bd4c07-8de1-448b-8025-34495b205ccb"
      },
      "execution_count": 85,
      "outputs": [
        {
          "output_type": "stream",
          "name": "stdout",
          "text": [
            "Original Array: [61 33 15 95 79 16 46  4 78 17]\n",
            "Sorted Array: [ 4 15 16 17 33 46 61 78 79 95]\n"
          ]
        }
      ]
    },
    {
      "cell_type": "code",
      "source": [
        "# Filter elements >20 in the given NumPy array.\n",
        "# Generate a random array of integers\n",
        "arr = np.random.randint(1, 50, size=15)\n",
        "# Filter elements greater than 20\n",
        "filtered_arr = arr[arr > 20]\n",
        "print(f\"Original Array: {arr}\")\n",
        "print(f\"Filtered Array (elements > 20): {filtered_arr}\")\n"
      ],
      "metadata": {
        "colab": {
          "base_uri": "https://localhost:8080/"
        },
        "id": "C_Mcrfh0i3bE",
        "outputId": "48873c82-361b-452c-d754-4e05dcce652b"
      },
      "execution_count": 86,
      "outputs": [
        {
          "output_type": "stream",
          "name": "stdout",
          "text": [
            "Original Array: [39 25 43 29 14 36 24 37 17 23 24 35 38 44 28]\n",
            "Filtered Array (elements > 20): [39 25 43 29 36 24 37 23 24 35 38 44 28]\n"
          ]
        }
      ]
    },
    {
      "cell_type": "code",
      "source": [
        "# Filter elements which are divisible by 3 from a given NumPy array.\n",
        "# Generate a random array of integers\n",
        "arr = np.random.randint(1, 50, size=15)\n",
        "# Filter elements divisible by 3\n",
        "filtered_by_3 = arr[arr % 3 == 0]\n",
        "print(f\"Original Array: {arr}\")\n",
        "print(f\"Filtered Array (divisible by 3): {filtered_by_3}\")\n"
      ],
      "metadata": {
        "colab": {
          "base_uri": "https://localhost:8080/"
        },
        "id": "DOsHpstRi6R5",
        "outputId": "3da36c35-99e4-47de-ff6a-2b7ac94cb177"
      },
      "execution_count": 87,
      "outputs": [
        {
          "output_type": "stream",
          "name": "stdout",
          "text": [
            "Original Array: [ 3 19 36  9 10 19 38 10 28 10 24 22 35 49 35]\n",
            "Filtered Array (divisible by 3): [ 3 36  9 24]\n"
          ]
        }
      ]
    },
    {
      "cell_type": "code",
      "source": [
        "# Filter elements which are  20 and  40 from a given NumPy array\n",
        "# Generate a random array of integers\n",
        "arr = np.random.randint(1, 50, size=15)\n",
        "# Filter elements between 20 and 40 (inclusive)\n",
        "filtered_range = arr[(arr >= 20) & (arr <= 40)]\n",
        "print(f\"Original Array: {arr}\")\n",
        "print(f\"Filtered Array (20 and 40): {filtered_range}\")"
      ],
      "metadata": {
        "colab": {
          "base_uri": "https://localhost:8080/"
        },
        "id": "17QeEMNAi926",
        "outputId": "8840de09-27ef-4929-d4d9-d01d27b1d950"
      },
      "execution_count": 89,
      "outputs": [
        {
          "output_type": "stream",
          "name": "stdout",
          "text": [
            "Original Array: [47 33 20 24  6 23 21 20 30 33 15 14 49 39 40]\n",
            "Filtered Array (20 and 40): [33 20 24 23 21 20 30 33 39 40]\n"
          ]
        }
      ]
    },
    {
      "cell_type": "code",
      "source": [
        "# For the given NumPy array, check its byte order using the dtype attribute␣\n",
        "# byteorder.\n",
        "import numpy as np\n",
        "arr = np.array([12, 25, 6, 42, 8, 30])\n",
        "# Check byte order using dtype's byteorder attribute\n",
        "byte_order = arr.dtype.byteorder\n",
        "print(f\"Byte order of the array: {byte_order}\")"
      ],
      "metadata": {
        "colab": {
          "base_uri": "https://localhost:8080/"
        },
        "id": "up4EiBb_jBCq",
        "outputId": "7e5d8a9a-6ccf-46cd-86b2-280b04be1a7a"
      },
      "execution_count": 91,
      "outputs": [
        {
          "output_type": "stream",
          "name": "stdout",
          "text": [
            "Byte order of the array: =\n"
          ]
        }
      ]
    },
    {
      "cell_type": "code",
      "source": [
        "# arr = np.array(['apple', 'banana', 'grape', 'pineapple']) arr = np.\n",
        "# ↪array(['apple', 'banana', 'grape', 'pineapple']) arr = np.array([12, 25, 6,␣\n",
        "# ↪42, 8, 30]) arr = np.array([1, 5, 8, 12, 15]) arr = np.array([10, 20, 30,␣\n",
        "# ↪40, 50]) arr = np.array([1, 2, 3]) arr1 = np.array(['Hello', 'World']) arr2␣\n",
        "# ↪= np.array(['Open', 'AI']) 72. For the given NumPy array, perform byte␣\n",
        "# ↪swapping in place using byteswap().\n",
        "arr = np.array([12, 25, 6, 42, 8, 30], dtype='>i4') # Big-endian integer array\n",
        "# Perform byte swapping in place\n",
        "arr.byteswap(inplace=True)\n",
        "print(f\"Array after byte swapping: {arr}\")"
      ],
      "metadata": {
        "colab": {
          "base_uri": "https://localhost:8080/"
        },
        "id": "goYnjwvEjLbw",
        "outputId": "b25d183e-bacd-4790-d0ea-a0a6ef404adc"
      },
      "execution_count": 93,
      "outputs": [
        {
          "output_type": "stream",
          "name": "stdout",
          "text": [
            "Array after byte swapping: [201326592 419430400 100663296 704643072 134217728 503316480]\n"
          ]
        }
      ]
    },
    {
      "cell_type": "code",
      "source": [
        "# For the given NumPy array, swap its byte order without modifying the original␣\n",
        "# array using newbyteorder().\n",
        "arr = np.array([12, 25, 6, 42, 8, 30], dtype='>i4') # Big-endian integer array\n",
        "# Swap byte order without modifying the original array\n",
        "swapped_arr = arr.newbyteorder()\n",
        "print(f\"Original array: {arr}\")\n",
        "print(f\"Array with swapped byte order: {swapped_arr}\")\n"
      ],
      "metadata": {
        "colab": {
          "base_uri": "https://localhost:8080/",
          "height": 211
        },
        "id": "kkafe_otjVIV",
        "outputId": "e654975a-6606-4bec-973d-c0a085032385"
      },
      "execution_count": 97,
      "outputs": [
        {
          "output_type": "error",
          "ename": "AttributeError",
          "evalue": "`newbyteorder` was removed from the ndarray class in NumPy 2.0. Use `arr.view(arr.dtype.newbyteorder(order))` instead.",
          "traceback": [
            "\u001b[0;31m---------------------------------------------------------------------------\u001b[0m",
            "\u001b[0;31mAttributeError\u001b[0m                            Traceback (most recent call last)",
            "\u001b[0;32m<ipython-input-97-e0f2dcf4410e>\u001b[0m in \u001b[0;36m<cell line: 0>\u001b[0;34m()\u001b[0m\n\u001b[1;32m      3\u001b[0m \u001b[0marr\u001b[0m \u001b[0;34m=\u001b[0m \u001b[0mnp\u001b[0m\u001b[0;34m.\u001b[0m\u001b[0marray\u001b[0m\u001b[0;34m(\u001b[0m\u001b[0;34m[\u001b[0m\u001b[0;36m12\u001b[0m\u001b[0;34m,\u001b[0m \u001b[0;36m25\u001b[0m\u001b[0;34m,\u001b[0m \u001b[0;36m6\u001b[0m\u001b[0;34m,\u001b[0m \u001b[0;36m42\u001b[0m\u001b[0;34m,\u001b[0m \u001b[0;36m8\u001b[0m\u001b[0;34m,\u001b[0m \u001b[0;36m30\u001b[0m\u001b[0;34m]\u001b[0m\u001b[0;34m,\u001b[0m \u001b[0mdtype\u001b[0m\u001b[0;34m=\u001b[0m\u001b[0;34m'>i4'\u001b[0m\u001b[0;34m)\u001b[0m \u001b[0;31m# Big-endian integer array\u001b[0m\u001b[0;34m\u001b[0m\u001b[0;34m\u001b[0m\u001b[0m\n\u001b[1;32m      4\u001b[0m \u001b[0;31m# Swap byte order without modifying the original array\u001b[0m\u001b[0;34m\u001b[0m\u001b[0;34m\u001b[0m\u001b[0m\n\u001b[0;32m----> 5\u001b[0;31m \u001b[0mswapped_arr\u001b[0m \u001b[0;34m=\u001b[0m \u001b[0marr\u001b[0m\u001b[0;34m.\u001b[0m\u001b[0mnewbyteorder\u001b[0m\u001b[0;34m(\u001b[0m\u001b[0;34m)\u001b[0m\u001b[0;34m\u001b[0m\u001b[0;34m\u001b[0m\u001b[0m\n\u001b[0m\u001b[1;32m      6\u001b[0m \u001b[0mprint\u001b[0m\u001b[0;34m(\u001b[0m\u001b[0;34mf\"Original array: {arr}\"\u001b[0m\u001b[0;34m)\u001b[0m\u001b[0;34m\u001b[0m\u001b[0;34m\u001b[0m\u001b[0m\n\u001b[1;32m      7\u001b[0m \u001b[0mprint\u001b[0m\u001b[0;34m(\u001b[0m\u001b[0;34mf\"Array with swapped byte order: {swapped_arr}\"\u001b[0m\u001b[0;34m)\u001b[0m\u001b[0;34m\u001b[0m\u001b[0;34m\u001b[0m\u001b[0m\n",
            "\u001b[0;31mAttributeError\u001b[0m: `newbyteorder` was removed from the ndarray class in NumPy 2.0. Use `arr.view(arr.dtype.newbyteorder(order))` instead."
          ]
        }
      ]
    },
    {
      "cell_type": "code",
      "source": [
        "# For the given NumPy array and swap its byte order conditionally based on␣system endianness using newbyteorder().\n",
        "arr = np.array([12, 25, 6, 42, 8, 30], dtype='>i4') # Big-endian integer array\n",
        "# Swap byte order based on system endianness\n",
        "swapped_conditionally = arr.newbyteorder('S') # 'S' makes it conditional on␣system endianness\n",
        "print(f\"Conditionally swapped byte order: {swapped_conditionally}\")\n"
      ],
      "metadata": {
        "colab": {
          "base_uri": "https://localhost:8080/",
          "height": 193
        },
        "id": "shGgdqw5jeT1",
        "outputId": "dfc6528e-02a8-4cdb-97e3-19e464278ebf"
      },
      "execution_count": 98,
      "outputs": [
        {
          "output_type": "error",
          "ename": "AttributeError",
          "evalue": "`newbyteorder` was removed from the ndarray class in NumPy 2.0. Use `arr.view(arr.dtype.newbyteorder(order))` instead.",
          "traceback": [
            "\u001b[0;31m---------------------------------------------------------------------------\u001b[0m",
            "\u001b[0;31mAttributeError\u001b[0m                            Traceback (most recent call last)",
            "\u001b[0;32m<ipython-input-98-6671605895ff>\u001b[0m in \u001b[0;36m<cell line: 0>\u001b[0;34m()\u001b[0m\n\u001b[1;32m      2\u001b[0m \u001b[0marr\u001b[0m \u001b[0;34m=\u001b[0m \u001b[0mnp\u001b[0m\u001b[0;34m.\u001b[0m\u001b[0marray\u001b[0m\u001b[0;34m(\u001b[0m\u001b[0;34m[\u001b[0m\u001b[0;36m12\u001b[0m\u001b[0;34m,\u001b[0m \u001b[0;36m25\u001b[0m\u001b[0;34m,\u001b[0m \u001b[0;36m6\u001b[0m\u001b[0;34m,\u001b[0m \u001b[0;36m42\u001b[0m\u001b[0;34m,\u001b[0m \u001b[0;36m8\u001b[0m\u001b[0;34m,\u001b[0m \u001b[0;36m30\u001b[0m\u001b[0;34m]\u001b[0m\u001b[0;34m,\u001b[0m \u001b[0mdtype\u001b[0m\u001b[0;34m=\u001b[0m\u001b[0;34m'>i4'\u001b[0m\u001b[0;34m)\u001b[0m \u001b[0;31m# Big-endian integer array\u001b[0m\u001b[0;34m\u001b[0m\u001b[0;34m\u001b[0m\u001b[0m\n\u001b[1;32m      3\u001b[0m \u001b[0;31m# Swap byte order based on system endianness\u001b[0m\u001b[0;34m\u001b[0m\u001b[0;34m\u001b[0m\u001b[0m\n\u001b[0;32m----> 4\u001b[0;31m \u001b[0mswapped_conditionally\u001b[0m \u001b[0;34m=\u001b[0m \u001b[0marr\u001b[0m\u001b[0;34m.\u001b[0m\u001b[0mnewbyteorder\u001b[0m\u001b[0;34m(\u001b[0m\u001b[0;34m'S'\u001b[0m\u001b[0;34m)\u001b[0m \u001b[0;31m# 'S' makes it conditional on␣system endianness\u001b[0m\u001b[0;34m\u001b[0m\u001b[0;34m\u001b[0m\u001b[0m\n\u001b[0m\u001b[1;32m      5\u001b[0m \u001b[0mprint\u001b[0m\u001b[0;34m(\u001b[0m\u001b[0;34mf\"Conditionally swapped byte order: {swapped_conditionally}\"\u001b[0m\u001b[0;34m)\u001b[0m\u001b[0;34m\u001b[0m\u001b[0;34m\u001b[0m\u001b[0m\n",
            "\u001b[0;31mAttributeError\u001b[0m: `newbyteorder` was removed from the ndarray class in NumPy 2.0. Use `arr.view(arr.dtype.newbyteorder(order))` instead."
          ]
        }
      ]
    },
    {
      "cell_type": "code",
      "source": [
        "# For the given NumPy array, check if byte swapping is necessary for the␣current system using dtype attribute byteorder.\n",
        "arr = np.array([12, 25, 6, 42, 8, 30], dtype='>i4') # Big-endian integer array\n",
        "# Check if byte swapping is necessary based on the system's byte order\n",
        "if arr.dtype.byteorder != '=':\n",
        "  print(\"Byte swapping is necessary.\")\n",
        "else:\n",
        "  print(\"Byte order is compatible with the system.\")\n"
      ],
      "metadata": {
        "colab": {
          "base_uri": "https://localhost:8080/"
        },
        "id": "skG3ZZXBkIH5",
        "outputId": "2b6c5a0b-cfd1-44bf-98b0-ad655c1e8636"
      },
      "execution_count": 100,
      "outputs": [
        {
          "output_type": "stream",
          "name": "stdout",
          "text": [
            "Byte swapping is necessary.\n"
          ]
        }
      ]
    },
    {
      "cell_type": "code",
      "source": [
        "# Create a NumPy array arr1 with values from 1 to 10. Create a copy of arr1␣\n",
        "# ↪named copy_arr and modify an element in copy_arr. Check if modifying␣\n",
        "# ↪copy_arr affects arr1.\n",
        "arr1 = np.array([1, 2, 3, 4, 5])\n",
        "# Create a copy of arr1\n",
        "copy_arr = arr1.copy()\n",
        "# Modify an element in copy_arr\n",
        "copy_arr[0] = 10\n",
        "28\n",
        "print(\"Original array (arr1):\", arr1)\n",
        "print(\"Modified copy (copy_arr):\", copy_arr)"
      ],
      "metadata": {
        "colab": {
          "base_uri": "https://localhost:8080/"
        },
        "id": "BzYJAYlykN29",
        "outputId": "33213bb4-2ae7-4cae-a237-ff61f72afdca"
      },
      "execution_count": 101,
      "outputs": [
        {
          "output_type": "stream",
          "name": "stdout",
          "text": [
            "Original array (arr1): [1 2 3 4 5]\n",
            "Modified copy (copy_arr): [10  2  3  4  5]\n"
          ]
        }
      ]
    },
    {
      "cell_type": "code",
      "source": [
        " # Create a 2D NumPy array matrix of shape (3, 3) with random integers. Extract␣\n",
        "# ↪a slice view_slice from the matrix. Modify an element in view_slice and␣\n",
        "# ↪observe if it changes the original matrix.\n",
        "matrix = np.random.randint(1, 10, size=(3, 3))\n",
        "# Extract a slice view\n",
        "view_slice = matrix[1:, 1:]\n",
        "# Modify an element in view_slice\n",
        "view_slice[0, 0] = 100\n",
        "print(\"Original matrix:\")\n",
        "print(matrix)\n",
        "print(\"Modified slice view:\")\n",
        "print(view_slice)\n"
      ],
      "metadata": {
        "colab": {
          "base_uri": "https://localhost:8080/"
        },
        "id": "JQXbbC39kY1e",
        "outputId": "c09f5dd6-1975-45cc-dc4e-b65d2b28f4b9"
      },
      "execution_count": 102,
      "outputs": [
        {
          "output_type": "stream",
          "name": "stdout",
          "text": [
            "Original matrix:\n",
            "[[  2   4   8]\n",
            " [  3 100   1]\n",
            " [  8   4   5]]\n",
            "Modified slice view:\n",
            "[[100   1]\n",
            " [  4   5]]\n"
          ]
        }
      ]
    },
    {
      "cell_type": "code",
      "source": [
        "# Create a NumPy array array_a of shape (4, 3) with sequential integers from 1␣\n",
        "# ↪to 12. Extract a slice view_b from array_a and broadcast the addition of 5␣\n",
        "# ↪to view_b. Check if it alters the original array_a.\n",
        "array_a = np.arange(1, 13).reshape(4, 3)\n",
        "# Extract a slice view\n",
        "view_b = array_a[:2, :2]\n",
        "# Add 5 to the slice view\n",
        "view_b += 5\n",
        "print(\"Original array (array_a):\")\n",
        "print(array_a)\n",
        "print(\"Modified slice view (view_b):\")\n",
        "print(view_b)\n"
      ],
      "metadata": {
        "colab": {
          "base_uri": "https://localhost:8080/"
        },
        "id": "vZJaj0VskeyU",
        "outputId": "2c6b8cc4-cc08-4d72-e526-e01c5f220ac2"
      },
      "execution_count": 103,
      "outputs": [
        {
          "output_type": "stream",
          "name": "stdout",
          "text": [
            "Original array (array_a):\n",
            "[[ 6  7  3]\n",
            " [ 9 10  6]\n",
            " [ 7  8  9]\n",
            " [10 11 12]]\n",
            "Modified slice view (view_b):\n",
            "[[ 6  7]\n",
            " [ 9 10]]\n"
          ]
        }
      ]
    },
    {
      "cell_type": "code",
      "source": [
        "# Create a NumPy array orig_array of shape (2, 4) with values from 1 to 8.␣\n",
        "# ↪Create a reshaped view reshaped_view of shape (4, 2) from orig_array. Modify␣\n",
        "# ↪an element in reshaped_view and check if it reflects changes in the original␣\n",
        "# ↪orig_array.\n",
        "orig_array = np.arange(1, 9).reshape(2, 4)\n",
        "# Create a reshaped view\n",
        "reshaped_view = orig_array.reshape(4, 2)\n",
        "# Modify an element in the reshaped view\n",
        "reshaped_view[0, 0] = 100\n",
        "print(\"Original array (orig_array):\")\n",
        "print(orig_array)\n",
        "print(\"Modified reshaped view (reshaped_view):\")\n",
        "print(reshaped_view)\n"
      ],
      "metadata": {
        "colab": {
          "base_uri": "https://localhost:8080/"
        },
        "id": "0D3zsvqhkjNM",
        "outputId": "506068d6-7ca6-4223-f479-a1d8b83553ba"
      },
      "execution_count": 104,
      "outputs": [
        {
          "output_type": "stream",
          "name": "stdout",
          "text": [
            "Original array (orig_array):\n",
            "[[100   2   3   4]\n",
            " [  5   6   7   8]]\n",
            "Modified reshaped view (reshaped_view):\n",
            "[[100   2]\n",
            " [  3   4]\n",
            " [  5   6]\n",
            " [  7   8]]\n"
          ]
        }
      ]
    },
    {
      "cell_type": "code",
      "source": [
        "# Create a NumPy array data of shape (3, 4) with random integers. Extract a␣\n",
        "# ↪copy data_copy of elements greater than 5. Modify an element in data_copy␣\n",
        "# ↪and verify if it affects the original data.\n",
        "data = np.random.randint(1, 20, size=(3, 4))\n",
        "# Extract a copy of elements greater than 5\n",
        "data_copy = data[data > 5].copy()\n",
        "# Modify an element in the copy\n",
        "data_copy[0] = 100\n",
        "print(\"Original data:\")\n",
        "30\n",
        "print(data)\n",
        "print(\"Modified data copy:\")\n",
        "print(data_copy)"
      ],
      "metadata": {
        "colab": {
          "base_uri": "https://localhost:8080/"
        },
        "id": "ndidR3TtkpTL",
        "outputId": "b17ac9c9-824a-446c-d70d-85c74366f945"
      },
      "execution_count": 105,
      "outputs": [
        {
          "output_type": "stream",
          "name": "stdout",
          "text": [
            "Original data:\n",
            "[[ 2  3  2  3]\n",
            " [ 6 15 13 11]\n",
            " [12 17 15  4]]\n",
            "Modified data copy:\n",
            "[100  15  13  11  12  17  15]\n"
          ]
        }
      ]
    },
    {
      "cell_type": "code",
      "source": [
        "# Create two matrices A and B of identical shape containing integers and␣\n",
        "# ↪perform addition and subtraction operations between them.\n",
        "import numpy as np\n",
        "# Create two matrices A and B of identical shape\n",
        "A = np.array([[1, 2, 3], [4, 5, 6]])\n",
        "B = np.array([[6, 5, 4], [3, 2, 1]])\n",
        "# Perform addition\n",
        "addition_result = A + B\n",
        "# Perform subtraction\n",
        "subtraction_result = A - B\n",
        "print(\"Matrix A:\\n\", A)\n",
        "print(\"Matrix B:\\n\", B)\n",
        "print(\"Addition (A + B):\\n\", addition_result)\n",
        "print(\"Subtraction (A - B):\\n\", subtraction_result)"
      ],
      "metadata": {
        "colab": {
          "base_uri": "https://localhost:8080/"
        },
        "id": "Gu0BzvGUk0P6",
        "outputId": "42682a0c-b9ba-4a44-af84-644cdda84dfc"
      },
      "execution_count": 106,
      "outputs": [
        {
          "output_type": "stream",
          "name": "stdout",
          "text": [
            "Matrix A:\n",
            " [[1 2 3]\n",
            " [4 5 6]]\n",
            "Matrix B:\n",
            " [[6 5 4]\n",
            " [3 2 1]]\n",
            "Addition (A + B):\n",
            " [[7 7 7]\n",
            " [7 7 7]]\n",
            "Subtraction (A - B):\n",
            " [[-5 -3 -1]\n",
            " [ 1  3  5]]\n"
          ]
        }
      ]
    },
    {
      "cell_type": "code",
      "source": [
        " # Generate two matrices C (3x2) and D (2x4) and perform matrix multiplication.\n",
        "# Create matrices C and D\n",
        "C = np.random.randint(1, 10, size=(3, 2)) # 3x2 matrix\n",
        "D = np.random.randint(1, 10, size=(2, 4)) # 2x4 matrix\n",
        "# Perform matrix multiplication\n",
        "multiplication_result = np.dot(C, D)\n",
        "print(\"Matrix C (3x2):\\n\", C)\n",
        "print(\"Matrix D (2x4):\\n\", D)\n",
        "print(\"Matrix multiplication (C x D):\\n\", multiplication_result)\n"
      ],
      "metadata": {
        "colab": {
          "base_uri": "https://localhost:8080/"
        },
        "id": "wCwV7qklk9py",
        "outputId": "6191bb88-e4b1-44fa-bc37-e8418d499105"
      },
      "execution_count": 107,
      "outputs": [
        {
          "output_type": "stream",
          "name": "stdout",
          "text": [
            "Matrix C (3x2):\n",
            " [[2 4]\n",
            " [3 1]\n",
            " [9 1]]\n",
            "Matrix D (2x4):\n",
            " [[6 6 3 7]\n",
            " [9 7 4 5]]\n",
            "Matrix multiplication (C x D):\n",
            " [[48 40 22 34]\n",
            " [27 25 13 26]\n",
            " [63 61 31 68]]\n"
          ]
        }
      ]
    },
    {
      "cell_type": "code",
      "source": [
        "# Create a matrix E and find its transpose.\n",
        "# Create a matrix E\n",
        "E = np.random.randint(1, 10, size=(4, 3)) # 4x3 matrix\n",
        "# Find the transpose of matrix E\n",
        "transpose_E = E.T\n",
        "print(\"Matrix E (4x3):\\n\", E)\n",
        "print(\"Transpose of matrix E (3x4):\\n\", transpose_E)\n"
      ],
      "metadata": {
        "colab": {
          "base_uri": "https://localhost:8080/"
        },
        "id": "2cX0auG6lB5j",
        "outputId": "2b8d8e71-5f87-4c1c-a2d8-ec868d63ad28"
      },
      "execution_count": 108,
      "outputs": [
        {
          "output_type": "stream",
          "name": "stdout",
          "text": [
            "Matrix E (4x3):\n",
            " [[6 6 6]\n",
            " [9 5 3]\n",
            " [7 5 3]\n",
            " [8 2 9]]\n",
            "Transpose of matrix E (3x4):\n",
            " [[6 9 7 8]\n",
            " [6 5 5 2]\n",
            " [6 3 3 9]]\n"
          ]
        }
      ]
    },
    {
      "cell_type": "code",
      "source": [
        "# Generate a square matrix F and compute its determinant.\n",
        "# Create a square matrix F (e.g., 3x3 matrix)\n",
        "F = np.random.randint(1, 10, size=(3, 3)) # 3x3 matrix\n",
        "# Compute the determinant of matrix F\n",
        "determinant_F = np.linalg.det(F)\n",
        "print(\"Matrix F (3x3):\\n\", F)\n",
        "print(\"Determinant of matrix F:\", determinant_F)"
      ],
      "metadata": {
        "colab": {
          "base_uri": "https://localhost:8080/"
        },
        "id": "-cYyjbZ4lFpC",
        "outputId": "ab4d07d9-d164-4e11-a766-9935eb58a5c3"
      },
      "execution_count": 109,
      "outputs": [
        {
          "output_type": "stream",
          "name": "stdout",
          "text": [
            "Matrix F (3x3):\n",
            " [[1 1 6]\n",
            " [9 5 4]\n",
            " [7 2 2]]\n",
            "Determinant of matrix F: -90.0\n"
          ]
        }
      ]
    },
    {
      "cell_type": "code",
      "source": [
        "# Create a square matrix G and find its inverse\n",
        "# Create a square matrix G (e.g., 2x2 matrix)\n",
        "G = np.array([[4, 7], [2, 6]])\n",
        "# Compute the inverse of matrix G\n",
        "inverse_G = np.linalg.inv(G)\n",
        "print(\"Matrix G (2x2):\\n\", G)\n",
        "print(\"Inverse of matrix G:\\n\", inverse_G)\n"
      ],
      "metadata": {
        "colab": {
          "base_uri": "https://localhost:8080/"
        },
        "id": "ks_sS_BjlJF3",
        "outputId": "c7968e72-930b-4620-902c-e38b686e89d2"
      },
      "execution_count": 110,
      "outputs": [
        {
          "output_type": "stream",
          "name": "stdout",
          "text": [
            "Matrix G (2x2):\n",
            " [[4 7]\n",
            " [2 6]]\n",
            "Inverse of matrix G:\n",
            " [[ 0.6 -0.7]\n",
            " [-0.2  0.4]]\n"
          ]
        }
      ]
    },
    {
      "cell_type": "code",
      "source": [],
      "metadata": {
        "id": "ViS51tGylSkV"
      },
      "execution_count": null,
      "outputs": []
    }
  ]
}